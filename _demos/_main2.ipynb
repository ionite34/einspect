{
 "cells": [
  {
   "cell_type": "code",
   "execution_count": 20,
   "metadata": {
    "collapsed": true
   },
   "outputs": [
    {
     "name": "stdout",
     "output_type": "stream",
     "text": [
      "IntView[int](<PyLongObject at 0x10744ccb0>)\n"
     ]
    }
   ],
   "source": [
    "from einspect import view\n",
    "\n",
    "n = 5000\n",
    "n_view = view(n)\n",
    "\n",
    "print(n_view)"
   ]
  },
  {
   "cell_type": "code",
   "execution_count": 24,
   "outputs": [
    {
     "name": "stdout",
     "output_type": "stream",
     "text": [
      "12\n",
      "1\n",
      "5000\n"
     ]
    }
   ],
   "source": [
    "print(n_view.ref_count)\n",
    "print(n_view.size)\n",
    "print(n_view.value)"
   ],
   "metadata": {
    "collapsed": false
   }
  },
  {
   "cell_type": "code",
   "execution_count": 25,
   "outputs": [],
   "source": [
    "with n_view.unsafe():\n",
    "    n_view.value = 9012"
   ],
   "metadata": {
    "collapsed": false
   }
  },
  {
   "cell_type": "code",
   "execution_count": 27,
   "outputs": [
    {
     "name": "stdout",
     "output_type": "stream",
     "text": [
      "9012\n"
     ]
    }
   ],
   "source": [
    "print(n)"
   ],
   "metadata": {
    "collapsed": false
   }
  },
  {
   "cell_type": "code",
   "execution_count": 1,
   "outputs": [],
   "source": [
    "from einspect import view"
   ],
   "metadata": {
    "collapsed": false
   }
  },
  {
   "cell_type": "code",
   "execution_count": 30,
   "outputs": [
    {
     "name": "stdout",
     "output_type": "stream",
     "text": [
      "905\n"
     ]
    }
   ],
   "source": [
    "n = 5000\n",
    "n_view = view(n)\n",
    "\n",
    "with n_view.unsafe():\n",
    "    n_view.value = 905\n",
    "\n",
    "print(n)"
   ],
   "metadata": {
    "collapsed": false
   }
  },
  {
   "cell_type": "code",
   "execution_count": 2,
   "outputs": [
    {
     "name": "stdout",
     "output_type": "stream",
     "text": [
      "TupleView[tuple](<PyTupleObject at 0x1093817c0>)\n"
     ]
    }
   ],
   "source": [
    "t = (1, 2, 3)\n",
    "t_view = view(t)\n",
    "print(t_view)"
   ],
   "metadata": {
    "collapsed": false
   }
  },
  {
   "cell_type": "code",
   "execution_count": 3,
   "outputs": [
    {
     "name": "stdout",
     "output_type": "stream",
     "text": [
      "('?', (...), 3)\n"
     ]
    }
   ],
   "source": [
    "t_view[0] = \"?\"\n",
    "t_view[1] = t\n",
    "\n",
    "print(t)"
   ],
   "metadata": {
    "collapsed": false
   }
  },
  {
   "cell_type": "code",
   "execution_count": 3,
   "outputs": [
    {
     "ename": "UnsafeIndexError",
     "evalue": "Setting indices beyond current size requires entering the unsafe() context.",
     "output_type": "error",
     "traceback": [
      "\u001B[0;31m---------------------------------------------------------------------------\u001B[0m",
      "\u001B[0;31mIndexError\u001B[0m                                Traceback (most recent call last)",
      "File \u001B[0;32m~/repos/Python/einspect/src/einspect/views.py:320\u001B[0m, in \u001B[0;36mTupleView.__setitem__\u001B[0;34m(self, key, value)\u001B[0m\n\u001B[1;32m    318\u001B[0m \u001B[38;5;28;01mtry\u001B[39;00m:\n\u001B[1;32m    319\u001B[0m     \u001B[38;5;66;03m# Get current item and decref\u001B[39;00m\n\u001B[0;32m--> 320\u001B[0m     prev_item \u001B[38;5;241m=\u001B[39m \u001B[38;5;28;43mself\u001B[39;49m\u001B[38;5;241;43m.\u001B[39;49m\u001B[43m_pyobject\u001B[49m\u001B[38;5;241;43m.\u001B[39;49m\u001B[43mGetItem\u001B[49m\u001B[43m(\u001B[49m\u001B[38;5;28;43mself\u001B[39;49m\u001B[38;5;241;43m.\u001B[39;49m\u001B[43m_pyobject\u001B[49m\u001B[43m,\u001B[49m\u001B[43m \u001B[49m\u001B[43mkey\u001B[49m\u001B[43m)\u001B[49m\n\u001B[1;32m    321\u001B[0m     \u001B[38;5;66;03m# pythonapi.Py_DecRef(prev_item)\u001B[39;00m\n\u001B[1;32m    322\u001B[0m     \u001B[38;5;66;03m# ref = ctypes.py_object(value)\u001B[39;00m\n\u001B[1;32m    323\u001B[0m     \u001B[38;5;66;03m# pythonapi.Py_IncRef(ref)\u001B[39;00m\n",
      "\u001B[0;31mIndexError\u001B[0m: tuple index out of range",
      "\nThe above exception was the direct cause of the following exception:\n",
      "\u001B[0;31mUnsafeIndexError\u001B[0m                          Traceback (most recent call last)",
      "Cell \u001B[0;32mIn[3], line 1\u001B[0m\n\u001B[0;32m----> 1\u001B[0m \u001B[43mt_view\u001B[49m\u001B[43m[\u001B[49m\u001B[38;5;241;43m3\u001B[39;49m\u001B[43m]\u001B[49m \u001B[38;5;241m=\u001B[39m \u001B[38;5;124m\"\u001B[39m\u001B[38;5;124mhm\u001B[39m\u001B[38;5;124m\"\u001B[39m\n",
      "File \u001B[0;32m~/repos/Python/einspect/src/einspect/views.py:330\u001B[0m, in \u001B[0;36mTupleView.__setitem__\u001B[0;34m(self, key, value)\u001B[0m\n\u001B[1;32m    328\u001B[0m \u001B[38;5;28;01mexcept\u001B[39;00m \u001B[38;5;167;01mIndexError\u001B[39;00m \u001B[38;5;28;01mas\u001B[39;00m err:\n\u001B[1;32m    329\u001B[0m     \u001B[38;5;28;01mif\u001B[39;00m \u001B[38;5;129;01mnot\u001B[39;00m \u001B[38;5;28mself\u001B[39m\u001B[38;5;241m.\u001B[39m_unsafe:\n\u001B[0;32m--> 330\u001B[0m         \u001B[38;5;28;01mraise\u001B[39;00m UnsafeIndexError(\n\u001B[1;32m    331\u001B[0m             \u001B[38;5;124m\"\u001B[39m\u001B[38;5;124mSetting indices beyond current size requires entering the unsafe() context.\u001B[39m\u001B[38;5;124m\"\u001B[39m\n\u001B[1;32m    332\u001B[0m         ) \u001B[38;5;28;01mfrom\u001B[39;00m \u001B[38;5;21;01merr\u001B[39;00m\n\u001B[1;32m    333\u001B[0m     \u001B[38;5;28;01melse\u001B[39;00m:\n\u001B[1;32m    334\u001B[0m         \u001B[38;5;28;01mif\u001B[39;00m key \u001B[38;5;241m<\u001B[39m \u001B[38;5;241m0\u001B[39m:\n",
      "\u001B[0;31mUnsafeIndexError\u001B[0m: Setting indices beyond current size requires entering the unsafe() context."
     ]
    }
   ],
   "source": [
    "t_view[3] = \"hm\""
   ],
   "metadata": {
    "collapsed": false
   }
  },
  {
   "cell_type": "code",
   "execution_count": null,
   "outputs": [],
   "source": [
    "with t_view.unsafe():\n",
    "    t_view[3] = \"hm\""
   ],
   "metadata": {
    "collapsed": false
   }
  },
  {
   "cell_type": "code",
   "execution_count": 17,
   "outputs": [],
   "source": [
    "v.value = 9123"
   ],
   "metadata": {
    "collapsed": false
   }
  },
  {
   "cell_type": "code",
   "execution_count": 18,
   "outputs": [
    {
     "name": "stdout",
     "output_type": "stream",
     "text": [
      "9123\n"
     ]
    }
   ],
   "source": [
    "print(x)"
   ],
   "metadata": {
    "collapsed": false
   }
  },
  {
   "cell_type": "code",
   "execution_count": 5,
   "outputs": [
    {
     "name": "stdout",
     "output_type": "stream",
     "text": [
      "<einspect.structs.PyLongObject object at 0x1070bf9d0>\n",
      "-1\n",
      "1000000006\n",
      "-5\n"
     ]
    }
   ],
   "source": [
    "x = -5\n",
    "\n",
    "s = structs.PyLongObject.from_object(x)\n",
    "print(s)\n",
    "print(s.ob_size)\n",
    "print(s.ob_refcnt)\n",
    "print(s.value)"
   ],
   "metadata": {
    "collapsed": false
   }
  },
  {
   "cell_type": "code",
   "execution_count": 3,
   "outputs": [
    {
     "data": {
      "text/plain": "int"
     },
     "execution_count": 3,
     "metadata": {},
     "output_type": "execute_result"
    }
   ],
   "source": [
    "type(s.ob_digit[0])"
   ],
   "metadata": {
    "collapsed": false
   }
  },
  {
   "cell_type": "code",
   "execution_count": 6,
   "outputs": [
    {
     "data": {
      "text/plain": "True"
     },
     "execution_count": 6,
     "metadata": {},
     "output_type": "execute_result"
    }
   ],
   "source": [
    "5 == 123"
   ],
   "metadata": {
    "collapsed": false
   }
  },
  {
   "cell_type": "code",
   "execution_count": 11,
   "outputs": [],
   "source": [
    "from ctypes import c_uint32\n"
   ],
   "metadata": {
    "collapsed": false
   }
  },
  {
   "cell_type": "code",
   "execution_count": 12,
   "outputs": [],
   "source": [
    "arr = c_uint32 * 10"
   ],
   "metadata": {
    "collapsed": false
   }
  },
  {
   "cell_type": "code",
   "execution_count": 13,
   "outputs": [],
   "source": [
    "a = arr()"
   ],
   "metadata": {
    "collapsed": false
   }
  },
  {
   "cell_type": "code",
   "execution_count": 14,
   "outputs": [
    {
     "ename": "ValueError",
     "evalue": "Can only assign sequence of same size",
     "output_type": "error",
     "traceback": [
      "\u001B[0;31m---------------------------------------------------------------------------\u001B[0m",
      "\u001B[0;31mValueError\u001B[0m                                Traceback (most recent call last)",
      "Cell \u001B[0;32mIn[14], line 1\u001B[0m\n\u001B[0;32m----> 1\u001B[0m \u001B[43ma\u001B[49m\u001B[43m[\u001B[49m\u001B[43m:\u001B[49m\u001B[43m]\u001B[49m \u001B[38;5;241m=\u001B[39m [\u001B[38;5;241m1\u001B[39m, \u001B[38;5;241m1\u001B[39m, \u001B[38;5;241m0\u001B[39m]\n",
      "\u001B[0;31mValueError\u001B[0m: Can only assign sequence of same size"
     ]
    }
   ],
   "source": [
    "a[:] = [1, 1, 0]"
   ],
   "metadata": {
    "collapsed": false
   }
  },
  {
   "cell_type": "code",
   "execution_count": 14,
   "outputs": [
    {
     "data": {
      "text/plain": "[1, 1]"
     },
     "execution_count": 14,
     "metadata": {},
     "output_type": "execute_result"
    }
   ],
   "source": [
    "a[:]"
   ],
   "metadata": {
    "collapsed": false
   }
  },
  {
   "cell_type": "code",
   "execution_count": null,
   "outputs": [],
   "source": [],
   "metadata": {
    "collapsed": false
   }
  }
 ],
 "metadata": {
  "kernelspec": {
   "display_name": "Python 3",
   "language": "python",
   "name": "python3"
  },
  "language_info": {
   "codemirror_mode": {
    "name": "ipython",
    "version": 2
   },
   "file_extension": ".py",
   "mimetype": "text/x-python",
   "name": "python",
   "nbconvert_exporter": "python",
   "pygments_lexer": "ipython2",
   "version": "2.7.6"
  }
 },
 "nbformat": 4,
 "nbformat_minor": 0
}
